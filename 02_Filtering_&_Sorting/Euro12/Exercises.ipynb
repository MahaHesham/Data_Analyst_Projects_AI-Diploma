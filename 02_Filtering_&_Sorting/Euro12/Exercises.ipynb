version https://git-lfs.github.com/spec/v1
oid sha256:98e5fd834aa58503e79c2ad548442fcd66ab931924bf31c9b8ecaea0b001ad5e
size 85263
